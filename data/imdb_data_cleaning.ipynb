{
 "cells": [
  {
   "cell_type": "code",
   "execution_count": 1,
   "id": "0f2781f1-934e-4bed-8765-cd69de6dbe7d",
   "metadata": {},
   "outputs": [],
   "source": [
    "import pandas as pd\n",
    "import numpy as np"
   ]
  },
  {
   "cell_type": "code",
   "execution_count": 2,
   "id": "88b1c0b8-661b-4044-931b-795826f8d390",
   "metadata": {},
   "outputs": [
    {
     "name": "stderr",
     "output_type": "stream",
     "text": [
      "/var/folders/5m/lwhv14kx1ms95ccr8yphs_qr0000gn/T/ipykernel_63372/2769637842.py:3: DtypeWarning: Columns (7) have mixed types. Specify dtype option on import or set low_memory=False.\n",
      "  akas = pd.read_csv('title.akas.tsv', sep='\\t')\n",
      "/var/folders/5m/lwhv14kx1ms95ccr8yphs_qr0000gn/T/ipykernel_63372/2769637842.py:4: DtypeWarning: Columns (5) have mixed types. Specify dtype option on import or set low_memory=False.\n",
      "  titlebasics = pd.read_csv('title.basics.tsv', sep='\\t')\n"
     ]
    }
   ],
   "source": [
    "#read the files\n",
    "namebasics = pd.read_csv('name.basics.tsv', sep='\\t')\n",
    "akas = pd.read_csv('title.akas.tsv', sep='\\t')\n",
    "titlebasics = pd.read_csv('title.basics.tsv', sep='\\t')\n",
    "principal = pd.read_csv('title.principals.tsv', sep='\\t')\n",
    "rating = pd.read_csv('title.ratings.tsv', sep='\\t')"
   ]
  },
  {
   "cell_type": "code",
   "execution_count": 3,
   "id": "1ec354a4-3318-4a31-84e1-b8471b83e0c1",
   "metadata": {},
   "outputs": [],
   "source": [
    "#selecting useful columns"
   ]
  },
  {
   "cell_type": "code",
   "execution_count": 4,
   "id": "29179a53-a9a7-42d6-b915-64de577d5ddc",
   "metadata": {},
   "outputs": [],
   "source": [
    "namebasics = namebasics.loc[:, 'nconst':'primaryName']"
   ]
  },
  {
   "cell_type": "code",
   "execution_count": 5,
   "id": "d16fe0ee-b53f-44ea-8b2a-477155eef977",
   "metadata": {},
   "outputs": [],
   "source": [
    "akas = akas.iloc[:, [0,2,3,7]]\n",
    "akas = akas.query('isOriginalTitle == 0') # no region info if isOringinalTitle = 1\n",
    "akas = akas.rename(columns={\"titleId\": \"tconst\"})"
   ]
  },
  {
   "cell_type": "code",
   "execution_count": 6,
   "id": "378c74ed-4084-4edc-b568-d7bf1ea314ae",
   "metadata": {},
   "outputs": [],
   "source": [
    "titlebasics = titlebasics.loc[:, ['tconst', 'titleType', 'primaryTitle', 'startYear', 'runtimeMinutes', 'genres']]"
   ]
  },
  {
   "cell_type": "code",
   "execution_count": 7,
   "id": "e634ee37-3399-4654-93b5-8332596218e4",
   "metadata": {},
   "outputs": [],
   "source": [
    "principal = principal.query('category == \"actor\" | category == \"self\" | category == \"actress\"')\n",
    "principal = principal.loc[:, ['tconst','nconst']]"
   ]
  },
  {
   "cell_type": "code",
   "execution_count": 8,
   "id": "3c89a017-ea5b-45ca-a2e6-63ee7d2469e5",
   "metadata": {},
   "outputs": [],
   "source": [
    "rating = rating.loc[:, ['tconst', 'averageRating']]"
   ]
  },
  {
   "cell_type": "code",
   "execution_count": 9,
   "id": "e4b67e4c-95c3-4a1c-b9d7-e5b62c01994c",
   "metadata": {},
   "outputs": [],
   "source": [
    "# merge df\n",
    "imdb = pd.merge(titlebasics, rating, how=\"left\", on=\"tconst\")\n",
    "imdb = pd.merge(imdb, akas, how=\"outer\", on=\"tconst\")\n",
    "imdb = pd.merge(imdb, principal, how=\"outer\", on=\"tconst\")\n",
    "imdb = pd.merge(imdb, namebasics, how=\"left\", on=\"nconst\")"
   ]
  },
  {
   "cell_type": "code",
   "execution_count": 10,
   "id": "de30ca09-0c2a-4bf6-b8d4-909527dc4964",
   "metadata": {},
   "outputs": [],
   "source": [
    "# select movie type only\n",
    "imdb = imdb.query('titleType == \"movie\"')"
   ]
  },
  {
   "cell_type": "code",
   "execution_count": 11,
   "id": "1672112b-aeb8-4875-818c-d32b200df3ea",
   "metadata": {},
   "outputs": [],
   "source": [
    "# drop na and unuseful columns\n",
    "imdb = imdb.replace(r'\\\\N', np.NaN, regex=True)\n",
    "#imdb = imdb.dropna()\n",
    "imdb = imdb.drop(columns=['titleType', 'title', 'isOriginalTitle', 'nconst'])"
   ]
  },
  {
   "cell_type": "code",
   "execution_count": 12,
   "id": "b7c73bfe-1fcd-419a-8fb3-486495195bd7",
   "metadata": {},
   "outputs": [],
   "source": [
    "# change year and runtime to int data type, genres to string\n",
    "imdb['startYear'] = imdb['startYear'].astype('float')\n",
    "imdb['runtimeMinutes'] = imdb['runtimeMinutes'].astype('float')\n",
    "imdb['genres'] = imdb['genres'].astype('string')"
   ]
  },
  {
   "cell_type": "code",
   "execution_count": 13,
   "id": "0867ee04-1aca-4788-9c57-c88f6bf8bb82",
   "metadata": {},
   "outputs": [],
   "source": [
    "# explode genres\n",
    "imdb = imdb.drop('genres', axis=1).join(imdb['genres'].str.split(',', expand=True).stack().reset_index(level=1, drop=True).rename('genres'))"
   ]
  },
  {
   "cell_type": "code",
   "execution_count": 14,
   "id": "ba912392-46db-4cc0-b018-13bb92380692",
   "metadata": {},
   "outputs": [],
   "source": [
    "imdb = imdb.query('startYear >2010 & startYear < 2021')"
   ]
  },
  {
   "cell_type": "code",
   "execution_count": 15,
   "id": "670664ce-5d72-4720-b0ae-52cabe38fcae",
   "metadata": {},
   "outputs": [],
   "source": [
    "imdb = imdb.query('genres == \"Action\" | genres == \"Crime\" | genres == \"Horror\" | genres == \"Mystery\" | genres == \"Romance\" | genres == \"Sci-Fi\" | genres == \"Thriller\"')"
   ]
  },
  {
   "cell_type": "code",
   "execution_count": 16,
   "id": "6bd8c8a3-e0a8-4b42-9092-469e9dc54380",
   "metadata": {},
   "outputs": [],
   "source": [
    "imdb.to_csv(\"imdb.csv\")"
   ]
  },
  {
   "cell_type": "code",
   "execution_count": null,
   "id": "3a7c7e60-daca-4067-939f-63cbb2ed3fa9",
   "metadata": {},
   "outputs": [],
   "source": []
  }
 ],
 "metadata": {
  "kernelspec": {
   "display_name": "Python [conda env:532]",
   "language": "python",
   "name": "conda-env-532-py"
  },
  "language_info": {
   "codemirror_mode": {
    "name": "ipython",
    "version": 3
   },
   "file_extension": ".py",
   "mimetype": "text/x-python",
   "name": "python",
   "nbconvert_exporter": "python",
   "pygments_lexer": "ipython3",
   "version": "3.10.2"
  }
 },
 "nbformat": 4,
 "nbformat_minor": 5
}
